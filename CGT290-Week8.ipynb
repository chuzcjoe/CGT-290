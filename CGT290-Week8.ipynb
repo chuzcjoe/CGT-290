{
 "cells": [
  {
   "cell_type": "markdown",
   "metadata": {},
   "source": [
    "# Week8: Orange Scripting Tutorial\n",
    "\n",
    "#### Zongcheng Chu"
   ]
  },
  {
   "cell_type": "code",
   "execution_count": 1,
   "metadata": {},
   "outputs": [],
   "source": [
    "import Orange"
   ]
  },
  {
   "cell_type": "code",
   "execution_count": 2,
   "metadata": {},
   "outputs": [],
   "source": [
    "# load buit-in dataset \"iris\"\n",
    "data = Orange.data.Table(\"iris\")"
   ]
  },
  {
   "cell_type": "code",
   "execution_count": 19,
   "metadata": {},
   "outputs": [
    {
     "data": {
      "text/plain": [
       "(ContinuousVariable(name='sepal length', number_of_decimals=1),\n",
       " ContinuousVariable(name='sepal width', number_of_decimals=1),\n",
       " ContinuousVariable(name='petal length', number_of_decimals=1),\n",
       " ContinuousVariable(name='petal width', number_of_decimals=1))"
      ]
     },
     "execution_count": 19,
     "metadata": {},
     "output_type": "execute_result"
    }
   ],
   "source": [
    "data.domain.attributes"
   ]
  },
  {
   "cell_type": "code",
   "execution_count": 47,
   "metadata": {},
   "outputs": [
    {
     "data": {
      "text/plain": [
       "DiscreteVariable(name='iris',\n",
       "                 values=['Iris-setosa', 'Iris-versicolor', 'Iris-virginica'])"
      ]
     },
     "execution_count": 47,
     "metadata": {},
     "output_type": "execute_result"
    }
   ],
   "source": [
    "data.domain.class_var"
   ]
  },
  {
   "cell_type": "code",
   "execution_count": 5,
   "metadata": {},
   "outputs": [
    {
     "name": "stdout",
     "output_type": "stream",
     "text": [
      "sepal length\n",
      "sepal width\n",
      "petal length\n",
      "petal width\n"
     ]
    }
   ],
   "source": [
    "for x in data.domain.attributes:\n",
    "    print(x)"
   ]
  },
  {
   "cell_type": "code",
   "execution_count": 21,
   "metadata": {},
   "outputs": [
    {
     "name": "stdout",
     "output_type": "stream",
     "text": [
      "[5.1, 3.5, 1.4, 0.2 | Iris-setosa]\n",
      "[4.9, 3.0, 1.4, 0.2 | Iris-setosa]\n",
      "[4.7, 3.2, 1.3, 0.2 | Iris-setosa]\n"
     ]
    }
   ],
   "source": [
    "# let's print the first three rows\n",
    "for row in data[:3]:\n",
    "    print(row)"
   ]
  },
  {
   "cell_type": "code",
   "execution_count": 48,
   "metadata": {},
   "outputs": [
    {
     "name": "stdout",
     "output_type": "stream",
     "text": [
      "Iris-setosa\n",
      "Iris-setosa\n",
      "Iris-setosa\n",
      "Iris-setosa\n",
      "Iris-setosa\n"
     ]
    }
   ],
   "source": [
    "# get the category for each data instance\n",
    "for d in data[:5]:\n",
    "    print(d.get_class())"
   ]
  },
  {
   "cell_type": "markdown",
   "metadata": {},
   "source": [
    "## explore data domain\n",
    "\n",
    "domain holds the names of attributes, classes and types"
   ]
  },
  {
   "cell_type": "code",
   "execution_count": 26,
   "metadata": {},
   "outputs": [
    {
     "name": "stdout",
     "output_type": "stream",
     "text": [
      "iris dataset has 4 features\n"
     ]
    }
   ],
   "source": [
    "data = Orange.data.Table(\"iris\")\n",
    "n = len(data.domain.attributes)\n",
    "print(\"iris dataset has {} features\".format(n))"
   ]
  },
  {
   "cell_type": "code",
   "execution_count": 28,
   "metadata": {},
   "outputs": [
    {
     "name": "stdout",
     "output_type": "stream",
     "text": [
      "iris dataset has 4 continuous features and 0 discrete features\n"
     ]
    }
   ],
   "source": [
    "# check if each feature is continuous or discreate\n",
    "n_cont = sum(1 for a in data.domain.attributes if a.is_continuous)\n",
    "n_disc = sum(1 for a in data.domain.attributes if a.is_discrete)\n",
    "\n",
    "print(\"iris dataset has {} continuous features and {} discrete features\".format(n_cont, n_disc))"
   ]
  },
  {
   "cell_type": "code",
   "execution_count": 29,
   "metadata": {},
   "outputs": [
    {
     "name": "stdout",
     "output_type": "stream",
     "text": [
      "sepal length\n",
      "sepal width\n",
      "petal length\n",
      "petal width\n"
     ]
    }
   ],
   "source": [
    "# let's print all the features\n",
    "for feature in data.domain.attributes:\n",
    "    print(feature.name)"
   ]
  },
  {
   "cell_type": "code",
   "execution_count": 30,
   "metadata": {},
   "outputs": [
    {
     "name": "stdout",
     "output_type": "stream",
     "text": [
      "sepal length\n",
      "sepal width\n",
      "petal length\n",
      "petal width\n"
     ]
    }
   ],
   "source": [
    "# or use index to get each feature\n",
    "n = len(data.domain.attributes)\n",
    "for i in range(n):\n",
    "    print(data.domain[i].name)"
   ]
  },
  {
   "cell_type": "markdown",
   "metadata": {},
   "source": [
    "## get data instances by index"
   ]
  },
  {
   "cell_type": "code",
   "execution_count": 33,
   "metadata": {},
   "outputs": [
    {
     "name": "stdout",
     "output_type": "stream",
     "text": [
      "[5.1, 3.5, 1.4, 0.2 | Iris-setosa]\n"
     ]
    }
   ],
   "source": [
    "print(data[0])"
   ]
  },
  {
   "cell_type": "code",
   "execution_count": 34,
   "metadata": {},
   "outputs": [
    {
     "name": "stdout",
     "output_type": "stream",
     "text": [
      "Value of 'sepal width' for the first instance: 3.5\n"
     ]
    }
   ],
   "source": [
    "name = \"sepal width\"\n",
    "print(\"Value of '%s' for the first instance:\" % name, data[0][name])"
   ]
  },
  {
   "cell_type": "code",
   "execution_count": 37,
   "metadata": {},
   "outputs": [
    {
     "name": "stdout",
     "output_type": "stream",
     "text": [
      "The 3rd value of the 1st data instance: 1.4\n"
     ]
    }
   ],
   "source": [
    "print(\"The 3rd value of the 1st data instance:\", data[0][2])"
   ]
  },
  {
   "cell_type": "markdown",
   "metadata": {},
   "source": [
    "## basic statistics"
   ]
  },
  {
   "cell_type": "code",
   "execution_count": 44,
   "metadata": {},
   "outputs": [
    {
     "name": "stdout",
     "output_type": "stream",
     "text": [
      "mean value for sepal length attribute is 5.843333333333335\n",
      "mean value for sepal width attribute is 3.0540000000000007\n",
      "mean value for petal length attribute is 3.7586666666666693\n",
      "mean value for petal width attribute is 1.1986666666666672\n"
     ]
    }
   ],
   "source": [
    "# MEAN() function receives list-type data\n",
    "def MEAN(x):\n",
    "    return sum(x) / len(x)\n",
    "\n",
    "data = Orange.data.Table(\"iris\")\n",
    "\n",
    "for x in data.domain.attributes:\n",
    "    print(\"mean value for {} attribute is {}\".format(x, MEAN([d[x] for d in data])))"
   ]
  },
  {
   "cell_type": "code",
   "execution_count": 51,
   "metadata": {},
   "outputs": [
    {
     "name": "stdout",
     "output_type": "stream",
     "text": [
      "{'Iris-setosa': 49, 'Iris-versicolor': 49, 'Iris-virginica': 49}\n"
     ]
    }
   ],
   "source": [
    "# let's get the total number for each category\n",
    "\n",
    "data = Orange.data.Table(\"iris\")\n",
    "\n",
    "dictionary = {}\n",
    "\n",
    "for d in data:\n",
    "    if str(d.get_class()) not in dictionary:\n",
    "        dictionary[str(d.get_class())] = 0\n",
    "    else:\n",
    "        dictionary[str(d.get_class())] += 1\n",
    "\n",
    "print(dictionary)"
   ]
  },
  {
   "cell_type": "markdown",
   "metadata": {},
   "source": [
    "## Orange data and Numpy"
   ]
  },
  {
   "cell_type": "code",
   "execution_count": 54,
   "metadata": {},
   "outputs": [
    {
     "data": {
      "text/plain": [
       "array([[5.1, 3.5, 1.4, 0.2],\n",
       "       [4.9, 3. , 1.4, 0.2],\n",
       "       [4.7, 3.2, 1.3, 0.2]])"
      ]
     },
     "execution_count": 54,
     "metadata": {},
     "output_type": "execute_result"
    }
   ],
   "source": [
    "# convert orange data to numpy data\n",
    "\n",
    "data = Orange.data.Table(\"iris\")\n",
    "data.X[:3] # first 3 rows"
   ]
  },
  {
   "cell_type": "code",
   "execution_count": 55,
   "metadata": {},
   "outputs": [
    {
     "data": {
      "text/plain": [
       "array([0., 0., 0.])"
      ]
     },
     "execution_count": 55,
     "metadata": {},
     "output_type": "execute_result"
    }
   ],
   "source": [
    "data.Y[:3] # class"
   ]
  },
  {
   "cell_type": "code",
   "execution_count": 56,
   "metadata": {},
   "outputs": [
    {
     "data": {
      "text/plain": [
       "array([5.84333333, 3.054     , 3.75866667, 1.19866667])"
      ]
     },
     "execution_count": 56,
     "metadata": {},
     "output_type": "execute_result"
    }
   ],
   "source": [
    "import numpy as np\n",
    "\n",
    "# an easy way to compute the mean vlaue for each column using numpy\n",
    "np.mean(data.X, axis=0)"
   ]
  },
  {
   "cell_type": "code",
   "execution_count": 60,
   "metadata": {},
   "outputs": [
    {
     "name": "stdout",
     "output_type": "stream",
     "text": [
      "[Feature 1, Feature 2]\n",
      "[[1, 2],\n",
      " [3, 4]]\n"
     ]
    }
   ],
   "source": [
    "# convert numpy data to Orange data\n",
    "\n",
    "X = np.array([[1,2],[3,4]])\n",
    "data = Orange.data.Table(X)\n",
    "print(data.domain)\n",
    "print(data)"
   ]
  },
  {
   "cell_type": "code",
   "execution_count": 62,
   "metadata": {},
   "outputs": [
    {
     "name": "stdout",
     "output_type": "stream",
     "text": [
      "[lenght, width]\n"
     ]
    }
   ],
   "source": [
    "# assign names to features\n",
    "\n",
    "domain = Orange.data.Domain([Orange.data.ContinuousVariable(\"lenght\"),\n",
    "                                 Orange.data.ContinuousVariable(\"width\")])\n",
    "data = Orange.data.Table(domain, X)\n",
    "print(data.domain)"
   ]
  },
  {
   "cell_type": "markdown",
   "metadata": {},
   "source": [
    "## Data sampling"
   ]
  },
  {
   "cell_type": "code",
   "execution_count": 66,
   "metadata": {},
   "outputs": [
    {
     "name": "stdout",
     "output_type": "stream",
     "text": [
      "Dataset instances: 150\n",
      "Subset size: 99\n"
     ]
    }
   ],
   "source": [
    "data = Orange.data.Table(\"iris\")\n",
    "print(\"Dataset instances:\", len(data))\n",
    "\n",
    "subset = Orange.data.Table(data.domain, [d for d in data if d[\"petal length\"] > 3.0])\n",
    "print(\"Subset size:\", len(subset))"
   ]
  },
  {
   "cell_type": "markdown",
   "metadata": {},
   "source": [
    "# First attempts to machine learning!!!\n",
    "\n",
    "## classification problem"
   ]
  },
  {
   "cell_type": "markdown",
   "metadata": {},
   "source": [
    "## step 1:\n",
    "load data"
   ]
  },
  {
   "cell_type": "code",
   "execution_count": 6,
   "metadata": {},
   "outputs": [],
   "source": [
    "data = Orange.data.Table(\"iris\")\n",
    "n = data.X.shape[0]"
   ]
  },
  {
   "cell_type": "markdown",
   "metadata": {},
   "source": [
    "## step 2:\n",
    "split the data into training and testing"
   ]
  },
  {
   "cell_type": "code",
   "execution_count": 7,
   "metadata": {},
   "outputs": [
    {
     "name": "stdout",
     "output_type": "stream",
     "text": [
      "we have 135 train samples\n",
      "we have 15 test samples\n"
     ]
    }
   ],
   "source": [
    "import numpy as np\n",
    "\n",
    "# shuffle the data\n",
    "permutation = np.random.permutation(n).tolist()\n",
    "train_idx = permutation[:int(n*0.9)]\n",
    "test_idx = permutation[int(n*0.9):]\n",
    "\n",
    "# 90% for training and 10% for testing\n",
    "\n",
    "train_subset = Orange.data.Table(data.domain, [d for i,d in enumerate(data) if i in train_idx])\n",
    "test_subset = Orange.data.Table(data.domain, [d for i,d in enumerate(data) if i in test_idx])\n",
    "\n",
    "\n",
    "print(\"we have {} train samples\".format(train_subset.X.shape[0]))\n",
    "print(\"we have {} test samples\".format(test_subset.X.shape[0]))"
   ]
  },
  {
   "cell_type": "markdown",
   "metadata": {},
   "source": [
    "## step 3:\n",
    "create a learning model for classification"
   ]
  },
  {
   "cell_type": "code",
   "execution_count": 8,
   "metadata": {},
   "outputs": [],
   "source": [
    "model = Orange.classification.LinearSVMLearner()"
   ]
  },
  {
   "cell_type": "code",
   "execution_count": 9,
   "metadata": {},
   "outputs": [],
   "source": [
    "# the model tries to learn how to do the classification from the training samples\n",
    "classifier = model(train_subset)"
   ]
  },
  {
   "cell_type": "markdown",
   "metadata": {},
   "source": [
    "## step 4:\n",
    "do testing"
   ]
  },
  {
   "cell_type": "code",
   "execution_count": 18,
   "metadata": {},
   "outputs": [
    {
     "name": "stdout",
     "output_type": "stream",
     "text": [
      "[[1. 0. 0.]\n",
      " [1. 0. 0.]\n",
      " [1. 0. 0.]\n",
      " [1. 0. 0.]\n",
      " [1. 0. 0.]\n",
      " [1. 0. 0.]\n",
      " [0. 1. 0.]\n",
      " [0. 1. 0.]\n",
      " [0. 1. 0.]\n",
      " [0. 0. 1.]\n",
      " [0. 0. 1.]\n",
      " [0. 0. 1.]\n",
      " [0. 0. 1.]\n",
      " [0. 0. 1.]\n",
      " [0. 0. 1.]]\n"
     ]
    }
   ],
   "source": [
    "# do prediction on test data\n",
    "predicts = classifier(test_subset)\n",
    "probabilities = classifier(test_subset, 1)\n",
    "print(probabilities)"
   ]
  },
  {
   "cell_type": "code",
   "execution_count": 19,
   "metadata": {},
   "outputs": [
    {
     "name": "stdout",
     "output_type": "stream",
     "text": [
      "Iris-setosa\n",
      "Iris-setosa\n",
      "Iris-setosa\n",
      "Iris-setosa\n",
      "Iris-setosa\n",
      "Iris-setosa\n",
      "Iris-versicolor\n",
      "Iris-versicolor\n",
      "Iris-versicolor\n",
      "Iris-virginica\n",
      "Iris-virginica\n",
      "Iris-virginica\n",
      "Iris-virginica\n",
      "Iris-virginica\n",
      "Iris-virginica\n"
     ]
    }
   ],
   "source": [
    "c_values = data.domain.class_var.values\n",
    "for pred in predicts:\n",
    "    print(c_values[int(pred)])"
   ]
  },
  {
   "cell_type": "code",
   "execution_count": 12,
   "metadata": {},
   "outputs": [
    {
     "name": "stdout",
     "output_type": "stream",
     "text": [
      "Iris-setosa\n",
      "Iris-setosa\n",
      "Iris-setosa\n",
      "Iris-setosa\n",
      "Iris-setosa\n",
      "Iris-setosa\n",
      "Iris-versicolor\n",
      "Iris-versicolor\n",
      "Iris-versicolor\n",
      "Iris-virginica\n",
      "Iris-virginica\n",
      "Iris-virginica\n",
      "Iris-virginica\n",
      "Iris-virginica\n",
      "Iris-virginica\n"
     ]
    }
   ],
   "source": [
    "# True label\n",
    "for d in test_subset:\n",
    "    print(d.get_class())"
   ]
  },
  {
   "cell_type": "markdown",
   "metadata": {},
   "source": [
    "## Regression Problem"
   ]
  },
  {
   "cell_type": "markdown",
   "metadata": {},
   "source": [
    "Regression in Orange is very similar to classification. These both require class-labeled data. Just like in classification, regression is implemented with learners and regression models (regressors)."
   ]
  },
  {
   "cell_type": "markdown",
   "metadata": {},
   "source": [
    "### Step 1:\n",
    "\n",
    "load housing data"
   ]
  },
  {
   "cell_type": "code",
   "execution_count": 27,
   "metadata": {},
   "outputs": [
    {
     "name": "stdout",
     "output_type": "stream",
     "text": [
      "-------features-------\n",
      "CRIM\n",
      "ZN\n",
      "INDUS\n",
      "CHAS\n",
      "NOX\n",
      "RM\n",
      "AGE\n",
      "DIS\n",
      "RAD\n",
      "TAX\n",
      "PTRATIO\n",
      "B\n",
      "LSTAT\n",
      "----------first 5 rows---------\n",
      "[[0.00632, 18.0, 2.31, 0, 0.5380, 6.575, 65.2, 4.0900, 1, 296, 15.3, 396.90, 4.98 | 24.0],\n",
      " [0.02731, 0.0, 7.07, 0, 0.4690, 6.421, 78.9, 4.9671, 2, 242, 17.8, 396.90, 9.14 | 21.6],\n",
      " [0.02729, 0.0, 7.07, 0, 0.4690, 7.185, 61.1, 4.9671, 2, 242, 17.8, 392.83, 4.03 | 34.7],\n",
      " [0.03237, 0.0, 2.18, 0, 0.4580, 6.998, 45.8, 6.0622, 3, 222, 18.7, 394.63, 2.94 | 33.4],\n",
      " [0.06905, 0.0, 2.18, 0, 0.4580, 7.147, 54.2, 6.0622, 3, 222, 18.7, 396.90, 5.33 | 36.2]]\n",
      "--------table length-------\n",
      "506\n"
     ]
    }
   ],
   "source": [
    "import Orange\n",
    "\n",
    "data = Orange.data.Table(\"housing\")\n",
    "print(\"-------features-------\")\n",
    "for att in data.domain.attributes:\n",
    "    print(att)\n",
    "    \n",
    "print(\"----------first 5 rows---------\")\n",
    "print(data[:5])\n",
    "\n",
    "print(\"--------table length-------\")\n",
    "print(data.X.shape[0])"
   ]
  },
  {
   "cell_type": "markdown",
   "metadata": {},
   "source": [
    "## Step 2:\n",
    "\n",
    "split the data into training and testing"
   ]
  },
  {
   "cell_type": "code",
   "execution_count": 28,
   "metadata": {},
   "outputs": [
    {
     "name": "stdout",
     "output_type": "stream",
     "text": [
      "we have 455 train samples\n",
      "we have 51 test samples\n"
     ]
    }
   ],
   "source": [
    "import numpy as np\n",
    "\n",
    "n = 506\n",
    "# shuffle the data\n",
    "permutation = np.random.permutation(n).tolist()\n",
    "train_idx = permutation[:int(n*0.9)]\n",
    "test_idx = permutation[int(n*0.9):]\n",
    "\n",
    "# 90% for training and 10% for testing\n",
    "\n",
    "train_subset = Orange.data.Table(data.domain, [d for i,d in enumerate(data) if i in train_idx])\n",
    "test_subset = Orange.data.Table(data.domain, [d for i,d in enumerate(data) if i in test_idx])\n",
    "\n",
    "\n",
    "print(\"we have {} train samples\".format(train_subset.X.shape[0]))\n",
    "print(\"we have {} test samples\".format(test_subset.X.shape[0]))"
   ]
  },
  {
   "cell_type": "markdown",
   "metadata": {},
   "source": [
    "## Step 3:\n",
    "\n",
    "create a learning model for regression"
   ]
  },
  {
   "cell_type": "code",
   "execution_count": 29,
   "metadata": {},
   "outputs": [],
   "source": [
    "lin = Orange.regression.linear.LinearRegressionLearner()\n",
    "rf = Orange.regression.random_forest.RandomForestRegressionLearner()\n",
    "\n",
    "regressor_lin = lin(train_subset)\n",
    "regressor_rf = rf(train_subset)"
   ]
  },
  {
   "cell_type": "markdown",
   "metadata": {},
   "source": [
    "## Step 4:\n",
    "\n",
    "make prediction"
   ]
  },
  {
   "cell_type": "code",
   "execution_count": 37,
   "metadata": {},
   "outputs": [
    {
     "name": "stdout",
     "output_type": "stream",
     "text": [
      "True housing price    \t  linreg    \t \t  rf\n",
      "20.4 \t \t  19.817276956609106 \t  20.230000000000004\n",
      "18.4 \t \t  19.722948336313994 \t  19.0\n",
      "24.7 \t \t  24.93021106690206 \t  22.270000000000003\n",
      "20.9 \t \t  20.7625702933054 \t  21.869999999999997\n",
      "23.4 \t \t  23.758221171962408 \t  23.779999999999998\n",
      "20.3 \t \t  22.243489736159916 \t  20.979999999999997\n",
      "24.8 \t \t  25.9566115422511 \t  22.859999999999996\n",
      "22.9 \t \t  25.080573271204855 \t  22.4\n",
      "22.5 \t \t  21.871254970150254 \t  21.57\n",
      "21.2 \t \t  23.12186910676722 \t  20.279999999999998\n",
      "23.0 \t \t  20.09134928350198 \t  18.82\n",
      "14.4 \t \t  2.699363779599082 \t  14.239999999999998\n",
      "21.5 \t \t  20.818844580085184 \t  19.740000000000002\n",
      "22.7 \t \t  24.86606450076908 \t  20.940000000000005\n",
      "23.8 \t \t  26.37257085023996 \t  21.28\n",
      "32.5 \t \t  31.410574196667277 \t  28.169999999999998\n",
      "42.3 \t \t  36.53734278518792 \t  46.459999999999994\n",
      "24.4 \t \t  23.580531008590675 \t  22.07\n",
      "21.7 \t \t  22.3287405455444 \t  19.17\n",
      "28.1 \t \t  24.957551065997986 \t  24.130000000000003\n",
      "23.7 \t \t  9.455705743260815 \t  17.22\n",
      "28.7 \t \t  28.54583924851717 \t  23.050000000000004\n",
      "30.1 \t \t  30.028998265676407 \t  25.65\n",
      "29.0 \t \t  31.9072987419374 \t  26.419999999999998\n",
      "23.7 \t \t  28.3136535234056 \t  24.01\n",
      "24.4 \t \t  24.296582304922296 \t  24.669999999999998\n",
      "43.1 \t \t  37.18363243897433 \t  42.12\n",
      "48.8 \t \t  41.00485878986986 \t  46.47\n",
      "33.1 \t \t  32.607866945756975 \t  30.65\n",
      "33.4 \t \t  35.56426260601606 \t  35.190000000000005\n",
      "17.8 \t \t  17.355208841666528 \t  19.12\n",
      "23.8 \t \t  25.04134638006579 \t  23.18\n",
      "23.1 \t \t  25.07054042942299 \t  23.43\n",
      "19.0 \t \t  21.35563342678526 \t  21.4\n",
      "18.7 \t \t  21.68885388084403 \t  20.58\n",
      "18.2 \t \t  14.501111172462366 \t  20.419999999999998\n",
      "20.8 \t \t  18.95535491669376 \t  18.95\n",
      "10.4 \t \t  16.358374305072303 \t  20.090000000000003\n",
      "13.1 \t \t  20.50261146096073 \t  14.849999999999998\n",
      "8.5 \t \t  16.4259595822803 \t  12.36\n",
      "11.9 \t \t  8.401889445008955 \t  12.05\n",
      "27.5 \t \t  19.72154680804391 \t  22.610000000000003\n",
      "14.2 \t \t  18.380950239307058 \t  15.080000000000002\n",
      "17.8 \t \t  22.669508038936094 \t  18.650000000000002\n",
      "13.5 \t \t  12.820626777143804 \t  14.919999999999998\n",
      "17.7 \t \t  20.436717042009086 \t  18.380000000000003\n",
      "19.1 \t \t  16.78899378761593 \t  13.520000000000001\n",
      "23.0 \t \t  23.81954398724317 \t  21.01\n",
      "8.1 \t \t  2.288710596508089 \t  9.93\n",
      "24.5 \t \t  20.0570919077702 \t  21.43\n",
      "20.6 \t \t  22.361655058155495 \t  20.71\n"
     ]
    }
   ],
   "source": [
    "print(\"True housing price   \", \"\\t  linreg   \", \"\\t \\t  rf\")\n",
    "\n",
    "for d in test_subset:\n",
    "    print(d.get_class(),\"\\t \\t \", regressor_lin(d), \"\\t \", regressor_rf(d))"
   ]
  },
  {
   "cell_type": "markdown",
   "metadata": {},
   "source": [
    "## Python Scripts in Orange"
   ]
  },
  {
   "cell_type": "markdown",
   "metadata": {},
   "source": [
    "**Inputs**\n",
    "\n",
    "*  Data (Orange.data.Table): input dataset bound to in_data variable\n",
    "\n",
    "*  Learner (Orange.classification.Learner): input learner bound to in_learner variable\n",
    "\n",
    "*  Classifier (Orange.classification.Learner): input classifier bound to in_classifier variable\n",
    "\n",
    "*  Object: input Python object bound to in_object variable\n",
    "\n",
    "**Outputs**\n",
    "\n",
    "*  Data (Orange.data.Table): dataset retrieved from out_data variable\n",
    "\n",
    "*  Learner (Orange.classification.Learner): learner retrieved from out_learner variable\n",
    "\n",
    "*  Classifier (Orange.classification.Learner): classifier retrieved from out_classifier variable\n",
    "\n",
    "*  Object: Python object retrieved from out_object variable"
   ]
  },
  {
   "cell_type": "markdown",
   "metadata": {},
   "source": [
    "Python Script widget can be used to run a python script in the input, when a suitable functionality is not implemented in an existing widget. The script has **in_data**, **in_distance**, **in_learner**, **in_classifier** and **in_object** variables (from input signals) in its local namespace"
   ]
  },
  {
   "cell_type": "markdown",
   "metadata": {},
   "source": [
    "For instance the following script would simply pass on all signals it receives:\n",
    "\n",
    "<br>\n",
    "\n",
    "out_data = in_data<br>\n",
    "out_distance = in_distance<br>\n",
    "out_learner = in_learner<br>\n",
    "out_classifier = in_classifier<br>\n",
    "out_object = in_object<br>"
   ]
  },
  {
   "cell_type": "code",
   "execution_count": null,
   "metadata": {},
   "outputs": [],
   "source": [
    "# let's first load iris data in Orange and print out the data table length\n",
    "\n",
    "print(len(in_data))"
   ]
  },
  {
   "cell_type": "code",
   "execution_count": null,
   "metadata": {},
   "outputs": [],
   "source": [
    "# create a subset and output the new subset data\n",
    "\n",
    "import Orange\n",
    "\n",
    "subset = Orange.data.Table(in_data.domain, [d for d in in_data if d[\"petal length\"] > 3.0])\n",
    "out_data = subset"
   ]
  },
  {
   "cell_type": "code",
   "execution_count": null,
   "metadata": {},
   "outputs": [],
   "source": [
    "# compute the mean, max, min, std, var for each column\n",
    "import numpy as np\n",
    "new_data = in_data.X\n",
    "\n",
    "print(np.max(new_data, axis=0))\n",
    "print(np.min(new_data, axis=0))\n",
    "print(np.std(new_data, axis=0))\n",
    "print(np.var(new_data, axis=0))"
   ]
  },
  {
   "cell_type": "code",
   "execution_count": 1,
   "metadata": {},
   "outputs": [],
   "source": []
  },
  {
   "cell_type": "markdown",
   "metadata": {},
   "source": [
    "# Group Project\n",
    "\n",
    "we are going to analyze \"titanic\" dataset this week.<br>\n",
    "\n",
    "for this dataset, we have each passenger's status, age and sex. Based on this information, we are going to predict wether a person survived in the crash."
   ]
  },
  {
   "cell_type": "code",
   "execution_count": 3,
   "metadata": {},
   "outputs": [],
   "source": [
    "# 1. load data (1pts)"
   ]
  },
  {
   "cell_type": "code",
   "execution_count": 5,
   "metadata": {},
   "outputs": [],
   "source": [
    "#2. print out the how many records do we have in this dataset. (1 pts)"
   ]
  },
  {
   "cell_type": "code",
   "execution_count": 7,
   "metadata": {},
   "outputs": [],
   "source": [
    "#3. report how many categories do we have for each column(status, age and sex)\n",
    "# you need to program to get the answer (2 pts)"
   ]
  },
  {
   "cell_type": "code",
   "execution_count": 8,
   "metadata": {},
   "outputs": [],
   "source": [
    "#4. convert to numerical representation (3 pts)\n",
    "#for example\n",
    "# female -> 0 male ->1\n",
    "# adult -> 0 child->1\n",
    "# first -> 0 second -> 1 third->2 crew -> 3"
   ]
  },
  {
   "cell_type": "code",
   "execution_count": 10,
   "metadata": {},
   "outputs": [],
   "source": [
    "#5. save your new data in Orange Table (1 pts)"
   ]
  },
  {
   "cell_type": "code",
   "execution_count": 11,
   "metadata": {},
   "outputs": [],
   "source": [
    "#6. randomly shuffle the dataset and split it into training data and testing data (2 pts)\n",
    "# training : testing = 9:1"
   ]
  },
  {
   "cell_type": "code",
   "execution_count": 12,
   "metadata": {},
   "outputs": [],
   "source": [
    "#7. create two classification models and train your models on the training dataset (2 pts)"
   ]
  },
  {
   "cell_type": "code",
   "execution_count": 14,
   "metadata": {},
   "outputs": [],
   "source": [
    "#8. Make predcition using your trained models on testing dataset.(2 pts)"
   ]
  },
  {
   "cell_type": "code",
   "execution_count": 15,
   "metadata": {},
   "outputs": [],
   "source": [
    "#9. report your prediction accuracy for each model. (2 pts)\n",
    "# accuracy = number of right prediction / total testing samples"
   ]
  },
  {
   "cell_type": "code",
   "execution_count": 2,
   "metadata": {},
   "outputs": [],
   "source": [
    "import Orange"
   ]
  },
  {
   "cell_type": "code",
   "execution_count": 50,
   "metadata": {},
   "outputs": [],
   "source": [
    "data = Orange.data.Table(\"titanic\")"
   ]
  },
  {
   "cell_type": "code",
   "execution_count": 51,
   "metadata": {},
   "outputs": [
    {
     "name": "stdout",
     "output_type": "stream",
     "text": [
      "1.0\n",
      "0.0\n",
      "1.0\n",
      "1.0\n"
     ]
    }
   ],
   "source": [
    "for x in data[0]:\n",
    "    print(x)"
   ]
  },
  {
   "cell_type": "code",
   "execution_count": 52,
   "metadata": {},
   "outputs": [
    {
     "data": {
      "text/plain": [
       "(DiscreteVariable(name='status', values=['crew', 'first', 'second', 'third']),\n",
       " DiscreteVariable(name='age', values=['adult', 'child']),\n",
       " DiscreteVariable(name='sex', values=['female', 'male']))"
      ]
     },
     "execution_count": 52,
     "metadata": {},
     "output_type": "execute_result"
    }
   ],
   "source": [
    "data.domain.attributes"
   ]
  },
  {
   "cell_type": "code",
   "execution_count": 54,
   "metadata": {},
   "outputs": [],
   "source": [
    "status = Orange.data.DiscreteVariable(\"status\", [\"0\", \"1\",\"2\",\"3\"])\n",
    "age = Orange.data.DiscreteVariable(\"age\", [\"0\",\"1\"])\n",
    "sex = Orange.data.DiscreteVariable(\"sex\", [\"0\", \"1\"])\n",
    "sur = Orange.data.ContinuousVariable(\"sur\")\n",
    "\n",
    "domain = Orange.data.Domain([status, age, sex], sur)\n",
    "\n",
    "new_data = Orange.data.Table(domain, data.X, data.Y)"
   ]
  },
  {
   "cell_type": "code",
   "execution_count": 55,
   "metadata": {},
   "outputs": [
    {
     "data": {
      "text/plain": [
       "[[1, 0, 1 | 1],\n",
       " [1, 0, 1 | 1],\n",
       " [1, 0, 1 | 1],\n",
       " [1, 0, 1 | 1],\n",
       " [1, 0, 1 | 1],\n",
       " ...\n",
       "]"
      ]
     },
     "execution_count": 55,
     "metadata": {},
     "output_type": "execute_result"
    }
   ],
   "source": [
    "new_data"
   ]
  },
  {
   "cell_type": "code",
   "execution_count": 56,
   "metadata": {},
   "outputs": [
    {
     "data": {
      "text/plain": [
       "[[first, adult, male | yes],\n",
       " [first, adult, male | yes],\n",
       " [first, adult, male | yes],\n",
       " [first, adult, male | yes],\n",
       " [first, adult, male | yes],\n",
       " ...\n",
       "]"
      ]
     },
     "execution_count": 56,
     "metadata": {},
     "output_type": "execute_result"
    }
   ],
   "source": [
    "data"
   ]
  },
  {
   "cell_type": "code",
   "execution_count": null,
   "metadata": {},
   "outputs": [],
   "source": []
  }
 ],
 "metadata": {
  "kernelspec": {
   "display_name": "Python 3",
   "language": "python",
   "name": "python3"
  },
  "language_info": {
   "codemirror_mode": {
    "name": "ipython",
    "version": 3
   },
   "file_extension": ".py",
   "mimetype": "text/x-python",
   "name": "python",
   "nbconvert_exporter": "python",
   "pygments_lexer": "ipython3",
   "version": "3.7.4"
  }
 },
 "nbformat": 4,
 "nbformat_minor": 2
}
