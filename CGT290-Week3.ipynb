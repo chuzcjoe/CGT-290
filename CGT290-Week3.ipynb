{
 "cells": [
  {
   "cell_type": "markdown",
   "metadata": {},
   "source": [
    "# CGT 290 Week3\n",
    "## Python Tutorial: Class(Object-Oriented Programming), IO, OS\n",
    "\n",
    "### Jan, 29\n",
    "Zongcheng Chu"
   ]
  },
  {
   "cell_type": "markdown",
   "metadata": {},
   "source": [
    "## What Is Object-Oriented Programming (OOP)?\n",
    "\n",
    "Object-oriented Programming, or OOP for short, is a programming paradigm which provides a means of structuring programs so that properties and behaviors are bundled into individual objects.\n",
    "\n",
    "### Advantages:\n",
    "<ol>\n",
    "<li> Development is faster and cheaper, with better software maintainability.</li>\n",
    "<li> This, in turn, leads to higher-quality software, which is also extensible with new methods and attributes.</li>\n",
    "</ol>\n",
    "\n",
    "### Let's start with an example..."
   ]
  },
  {
   "cell_type": "markdown",
   "metadata": {},
   "source": [
    "OOP Example \n",
    "\n",
    "An example of a class is the class **Person**. Don't think of it as a specific person. We're describing what a person is and can do, in general. Person usually has a name and age; these are instance attributes. Person can also speak; this is a method.\n",
    "\n",
    "When you talk about a specific **Person**, you would have an object in programming: an object is an instantiation of a class. This is the basic principle on which object-oriented programming is based. So a person named 'Bob', for example, belongs to the class Person. His attributes are name = 'Bob' and age = '20'. A different **Person** will have different attributes."
   ]
  },
  {
   "cell_type": "markdown",
   "metadata": {},
   "source": [
    "## How to create a class\n",
    "\n",
    "To define a class in Python, you can use the **class** keyword, followed by the class name and a colon. Inside the class, an **__init__** method has to be defined with keyword **def**. This is the initializer that you can later use to instantiate objects. It's similar to a constructor in Java. **__init__** must always be present! It takes one argument: **self**, which refers to the object itself. Inside the method, the pass keyword is used as of now, because Python expects you to type something there. Remember to use correct indentation!"
   ]
  },
  {
   "cell_type": "code",
   "execution_count": 1,
   "metadata": {},
   "outputs": [],
   "source": [
    "class Person:\n",
    "\n",
    "    def __init__(self):\n",
    "        pass"
   ]
  },
  {
   "cell_type": "code",
   "execution_count": 3,
   "metadata": {},
   "outputs": [
    {
     "name": "stdout",
     "output_type": "stream",
     "text": [
      "<__main__.Person object at 0x000002646F6E1788>\n"
     ]
    }
   ],
   "source": [
    "# now we have a class called Person, but we have no objects! Let's make one.\n",
    "\n",
    "# -----------------------\n",
    "# Instantiating objects \n",
    "# -----------------------\n",
    "\n",
    "# To instantiate an object, type the class name, followed by two brackets. \n",
    "# You can assign this to a variable to keep track of the object.\n",
    "\n",
    "Bob = Person()\n",
    "print(Bob)"
   ]
  },
  {
   "cell_type": "markdown",
   "metadata": {},
   "source": [
    "## Adding attributes to a class\n",
    "\n",
    "After printing Bob, it is clear that this object is now in the PC memory. \n",
    "But you haven't added any attributes yet. Let's give the Person class a name and age, by rewriting it:"
   ]
  },
  {
   "cell_type": "code",
   "execution_count": 4,
   "metadata": {},
   "outputs": [],
   "source": [
    "class Person:\n",
    "\n",
    "    def __init__(self, name, age):  \n",
    "        self.name = name\n",
    "        self.age = age"
   ]
  },
  {
   "cell_type": "code",
   "execution_count": 6,
   "metadata": {},
   "outputs": [],
   "source": [
    "# You can see that the function now takes two arguments after self: name and age. \n",
    "# These then get assigned to self.name and self.age respectively. \n",
    "# You can now now create a new Person object, with a name and age:\n",
    "\n",
    "Bob = Person(\"Bob\", 20)"
   ]
  },
  {
   "cell_type": "code",
   "execution_count": 8,
   "metadata": {},
   "outputs": [
    {
     "name": "stdout",
     "output_type": "stream",
     "text": [
      "Bob 20\n"
     ]
    }
   ],
   "source": [
    "# To access an object's attributes in Python, you can use the dot notation. \n",
    "# This is done by typing the name of the object, followed by a dot and the attribute's name.\n",
    "\n",
    "print(Bob.name, Bob.age)"
   ]
  },
  {
   "cell_type": "code",
   "execution_count": 9,
   "metadata": {},
   "outputs": [
    {
     "name": "stdout",
     "output_type": "stream",
     "text": [
      "Bob is 20 year(s) old.\n"
     ]
    }
   ],
   "source": [
    "# This can also be combined in a more elaborate sentence:\n",
    "print(Bob.name + \" is \" + str(Bob.age) + \" year(s) old.\")"
   ]
  },
  {
   "cell_type": "markdown",
   "metadata": {},
   "source": [
    "## Define methods in a class\n",
    "\n",
    "Now that you have a **Person** class, it does have a name and age which you can keep track of, but it doesn't actually do anything. This is where instance methods come in. You can rewrite the class to include a speak() method. Notice how the def keyword is used again, as well as the self argument."
   ]
  },
  {
   "cell_type": "code",
   "execution_count": 10,
   "metadata": {},
   "outputs": [],
   "source": [
    "class Person:\n",
    "\n",
    "    def __init__(self, name, age):  \n",
    "        self.name = name\n",
    "        self.age = age\n",
    "\n",
    "    def speak(self):\n",
    "        print(\"hello\")"
   ]
  },
  {
   "cell_type": "code",
   "execution_count": 11,
   "metadata": {},
   "outputs": [
    {
     "name": "stdout",
     "output_type": "stream",
     "text": [
      "hello\n"
     ]
    }
   ],
   "source": [
    "# The speak method can now be called using the dot notation, after instantiating a new person object. \n",
    "# The method should print \"hello\" to the screen. \n",
    "# Notice the parentheses (curly brackets) in .speak(). These are always used when calling a method. \n",
    "# They're empty in this case, since the speak() method does not take any arguments.\n",
    "\n",
    "Bob = Person('Bob',20)\n",
    "Bob.speak()"
   ]
  },
  {
   "cell_type": "code",
   "execution_count": 9,
   "metadata": {},
   "outputs": [],
   "source": [
    "# Recall how you printed Bob's infomation earlier? \n",
    "# The code below now implements this functionality in the Person class, with the personinfo() method. \n",
    "# You then instantiate some objects with different properties, and call the method on them.\n",
    "\n",
    "class Person:\n",
    "\n",
    "    def __init__(self, name, age, height):  \n",
    "        self.name = name\n",
    "        self.age = age\n",
    "        self.h = height \n",
    "\n",
    "    def speak(self):\n",
    "        print(\"hello\")\n",
    "\n",
    "    def personinfo(self):\n",
    "        print(self.name + \" is \" + str(self.age) + \" year(s) old.\",'height:',self.h)\n",
    "        \n",
    "    def birthday(self):\n",
    "        print(\"age plus 1 done.\")\n",
    "        self.age = self.age + 1"
   ]
  },
  {
   "cell_type": "code",
   "execution_count": 2,
   "metadata": {},
   "outputs": [
    {
     "name": "stdout",
     "output_type": "stream",
     "text": [
      "A is 20 year(s) old. height: 70\n",
      "B is 21 year(s) old. height: 90\n",
      "C is 22 year(s) old. height: 60\n"
     ]
    }
   ],
   "source": [
    "A = Person(\"A\",20,70)\n",
    "B = Person(\"B\",21,90)\n",
    "C = Person(\"C\",22,60)\n",
    "\n",
    "A.personinfo()\n",
    "B.personinfo()\n",
    "C.personinfo()\n",
    "\n",
    "# As you can see, you can call the personinfo() method on objects with the dot notation. \n",
    "# The response now depends on which Person object you are calling the method on."
   ]
  },
  {
   "cell_type": "code",
   "execution_count": 10,
   "metadata": {},
   "outputs": [
    {
     "name": "stdout",
     "output_type": "stream",
     "text": [
      "20\n",
      "age plus 1 done.\n",
      "21\n"
     ]
    }
   ],
   "source": [
    "# It's as easy as assigning a new value to the attribute.\n",
    "Bob = Person(\"Bob\",20,90)\n",
    "print(Bob.age)\n",
    "\n",
    "Bob.birthday()\n",
    "print(Bob.age)"
   ]
  },
  {
   "cell_type": "code",
   "execution_count": 21,
   "metadata": {},
   "outputs": [],
   "source": [
    "# You could also implement this as a birthday() method in the Person class:\n",
    "\n",
    "class Person:\n",
    "\n",
    "    def __init__(self, name, age):  \n",
    "        self.name = name\n",
    "        self.age = age\n",
    "\n",
    "    def speak(self):\n",
    "        print(\"hello\")\n",
    "\n",
    "    def personinfo(self):\n",
    "        print(self.name + \" is \" + str(self.age) + \" year(s) old.\")\n",
    "        \n",
    "    def birthday(self):\n",
    "        self.age += 1  # equals to self.age = self.age + 1"
   ]
  },
  {
   "cell_type": "code",
   "execution_count": 22,
   "metadata": {},
   "outputs": [
    {
     "name": "stdout",
     "output_type": "stream",
     "text": [
      "20\n",
      "21\n"
     ]
    }
   ],
   "source": [
    "Bob = Person(\"Bob\",20)\n",
    "print(Bob.age)\n",
    "\n",
    "Bob.birthday()\n",
    "print(Bob.age)"
   ]
  },
  {
   "cell_type": "markdown",
   "metadata": {},
   "source": [
    "## Passing arguments to methods"
   ]
  },
  {
   "cell_type": "markdown",
   "metadata": {},
   "source": [
    "Take a look at the makefriends() method below. It takes self, as per usual, and friend as arguments. In this case, friend will be another Person object. Set the self.friend attribute to friend, and the friend.friend attribute to self. This means that the relationship is reciprocal; you are your buddy's buddy."
   ]
  },
  {
   "cell_type": "code",
   "execution_count": 11,
   "metadata": {},
   "outputs": [],
   "source": [
    "class Person:\n",
    "\n",
    "    def __init__(self, name, age):  \n",
    "        self.name = name\n",
    "        self.age = age\n",
    "\n",
    "    def speak(self):\n",
    "        print(\"hello\")\n",
    "\n",
    "    def personinfo(self):\n",
    "        print(self.name + \" is \" + str(self.age) + \" year(s) old.\")\n",
    "        \n",
    "    def birthday(self):\n",
    "        self.age += 1  # equals to self.age = self.age + 1\n",
    "        \n",
    "    def makefriends(self, B):\n",
    "        A.friend = B\n",
    "        B.friend = A\n",
    "        "
   ]
  },
  {
   "cell_type": "code",
   "execution_count": 12,
   "metadata": {},
   "outputs": [],
   "source": [
    "# You can now call the method with the dot notation, and pass it another Person object.\n",
    "A = Person(\"A\",20)\n",
    "B = Person(\"B\",21)\n",
    "\n",
    "A.makefriends(B)"
   ]
  },
  {
   "cell_type": "code",
   "execution_count": 13,
   "metadata": {},
   "outputs": [
    {
     "name": "stdout",
     "output_type": "stream",
     "text": [
      "B\n",
      "21\n"
     ]
    }
   ],
   "source": [
    "# let's find out who is A's friend\n",
    "\n",
    "print(A.friend.name)\n",
    "print(A.friend.age)"
   ]
  },
  {
   "cell_type": "code",
   "execution_count": 29,
   "metadata": {},
   "outputs": [
    {
     "name": "stdout",
     "output_type": "stream",
     "text": [
      "A\n",
      "20\n"
     ]
    }
   ],
   "source": [
    "print(B.friend.name)\n",
    "print(B.friend.age)"
   ]
  },
  {
   "cell_type": "markdown",
   "metadata": {},
   "source": [
    "### Another Example"
   ]
  },
  {
   "cell_type": "code",
   "execution_count": 15,
   "metadata": {},
   "outputs": [],
   "source": [
    "class Person:\n",
    "\n",
    "    def __init__(self, name, age):  \n",
    "        self.name = name\n",
    "        self.age = age\n",
    "\n",
    "    def speak(self):\n",
    "        print(\"hello\")\n",
    "\n",
    "    def personinfo(self):\n",
    "        print(self.name + \" is \" + str(self.age) + \" year(s) old.\")\n",
    "        \n",
    "    def birthday(self):\n",
    "        self.age += 1  # equals to self.age = self.age + 1\n",
    "        \n",
    "    def makefriends(self, friend):\n",
    "        self.friend = friend\n",
    "        friend.friend = self\n",
    "    \n",
    "    def isTeenager(self, lower, upper):\n",
    "        if lower <= self.age <= upper:\n",
    "            print(\"Yes\")\n",
    "        else:\n",
    "            print(\"No\")"
   ]
  },
  {
   "cell_type": "code",
   "execution_count": 16,
   "metadata": {},
   "outputs": [
    {
     "name": "stdout",
     "output_type": "stream",
     "text": [
      "No\n"
     ]
    }
   ],
   "source": [
    "Bob = Person(\"Bob\", 21)\n",
    "Bob.isTeenager(13,19)"
   ]
  },
  {
   "cell_type": "markdown",
   "metadata": {},
   "source": [
    "## IO: Operations on external files"
   ]
  },
  {
   "cell_type": "code",
   "execution_count": 2,
   "metadata": {},
   "outputs": [
    {
     "name": "stdout",
     "output_type": "stream",
     "text": [
      "Line #1 hello world\n",
      "Line #2 life is not easy\n"
     ]
    }
   ],
   "source": [
    "# 1.read txt file\n",
    "\n",
    "f = open('sample.txt', 'r') #  r = read, w = write, a = append, b = binary, +: create file if not exist.\n",
    "texts = f.read()\n",
    "print(texts)\n",
    "f.close()"
   ]
  },
  {
   "cell_type": "code",
   "execution_count": 20,
   "metadata": {},
   "outputs": [
    {
     "name": "stdout",
     "output_type": "stream",
     "text": [
      "Line #1 hello world\n",
      "\n",
      "Line #2 life is not easy\n"
     ]
    }
   ],
   "source": [
    "# 2. read txt file line by line\n",
    "with open('sample.txt', 'r') as f:\n",
    "    lines = f.readlines()\n",
    "    #print(lines)\n",
    "    for line in lines:\n",
    "        print(line) # remove '\\n'"
   ]
  },
  {
   "cell_type": "code",
   "execution_count": 7,
   "metadata": {},
   "outputs": [
    {
     "name": "stdout",
     "output_type": "stream",
     "text": [
      "Line #1 hello world\n",
      "Line #2 life is not easy\n"
     ]
    }
   ],
   "source": [
    "with open('sample.txt', 'r') as f:\n",
    "    for line in f.readlines():\n",
    "        print(line.strip())"
   ]
  },
  {
   "cell_type": "code",
   "execution_count": 22,
   "metadata": {},
   "outputs": [],
   "source": [
    "# 3. write content to a txt file\n",
    "\n",
    "texts = ['New line #1 hello world', 'Line #2 life is not easy']\n",
    "\n",
    "with open('new_sample.txt', 'w') as f:\n",
    "    for text in texts:\n",
    "        f.write(text + '\\n')\n",
    "\n",
    "# write something else\n",
    "with open('new_sample.txt', 'a') as f:\n",
    "    f.write('Something new\\n')"
   ]
  },
  {
   "cell_type": "code",
   "execution_count": 27,
   "metadata": {},
   "outputs": [
    {
     "name": "stdout",
     "output_type": "stream",
     "text": [
      "<_csv.reader object at 0x000002690515F278>\n",
      "['1', 'youth', 'high', 'no', 'fair', 'no']\n",
      "['2', 'youth', 'high', 'no', 'excellent', 'no']\n",
      "['3', 'middle', 'high', 'no', 'fair', 'yes']\n",
      "['4', 'senior', 'medium', 'no', 'fair', 'yes']\n",
      "['5', 'senior', 'low', 'yes', 'fair', 'yes']\n",
      "['6', 'senior', 'low', 'yes', 'excellent', 'no']\n",
      "['7', 'middle', 'low', 'yes', 'excellent', 'yes']\n",
      "['8', 'youth', 'medium', 'no', 'fair', 'no']\n",
      "['9', 'youth', 'low', 'yes', 'fair', 'yes']\n",
      "['10', 'senior', 'medium', 'yes', 'fair', 'yes']\n",
      "['11', 'youth', 'medium', 'yes', 'excellent', 'yes']\n",
      "['12', 'middle', 'medium', 'no', 'excellent', 'yes']\n",
      "['13', 'middle', 'high', 'yes', 'fair', 'yes']\n",
      "['14', 'senior', 'medium', 'no', 'excellent', 'no']\n"
     ]
    }
   ],
   "source": [
    "# 4. read csv file\n",
    "\n",
    "import csv\n",
    "\n",
    "label_list = []\n",
    "\n",
    "with open('sales.csv','r') as f:\n",
    "    reader = csv.reader(f)\n",
    "    \n",
    "    # get the data headers\n",
    "    headers = next(reader)\n",
    "    print(reader)\n",
    "    for row in reader:\n",
    "        #label_list.append(row[-1])\n",
    "        print(row)\n",
    "        #pass\n"
   ]
  },
  {
   "cell_type": "code",
   "execution_count": 11,
   "metadata": {},
   "outputs": [],
   "source": [
    "# 5. write a csv file\n",
    "import csv\n",
    "\n",
    "with open('test.csv', 'w', newline='') as csvfile: \n",
    "    writer = csv.writer(csvfile)\n",
    "\n",
    "    #first write column names\n",
    "    writer.writerow([\"index\",\"a_name\",\"b_name\"])\n",
    "    #write content\n",
    "    for i in range(0,3):\n",
    "        writer.writerow([i*3, i*3+1, i*3+2])"
   ]
  },
  {
   "cell_type": "markdown",
   "metadata": {},
   "source": [
    "## OS: Operating System Interfaces"
   ]
  },
  {
   "cell_type": "markdown",
   "metadata": {},
   "source": [
    "### Most commonly used OS api:\n",
    "<ol>\n",
    "<li> os.listdir()</li>\n",
    "<li>os.remove()</li>\n",
    "<li> os.getcwd()()</li>\n",
    "<li>os.path.split()</li>\n",
    "<li> os.path.isfile()</li>\n",
    "<li> os.path.isdir()</li>\n",
    "<li>os.path.exist()</li>\n",
    "<li> os.chdir()</li>\n",
    "<li>os.path.getsize()</li>\n",
    "<li> os.path.splitext()</li>\n",
    "<li>os.path.basename()</li>\n",
    "<li> os.path.dirname()</li>\n",
    "<li>os.path.join()</li>\n",
    "</ol>"
   ]
  },
  {
   "cell_type": "code",
   "execution_count": 30,
   "metadata": {},
   "outputs": [
    {
     "data": {
      "text/plain": [
       "['.ipynb_checkpoints',\n",
       " 'CGT290-Week1.ipynb',\n",
       " 'CGT290-Week2.ipynb',\n",
       " 'CGT290-Week3(1).ipynb',\n",
       " 'CGT290-Week3.ipynb',\n",
       " 'countries.txt',\n",
       " 'label.txt',\n",
       " 'new_sample.txt',\n",
       " 'Project2.ipynb',\n",
       " 'sales.csv',\n",
       " 'sample.txt',\n",
       " 'test.csv',\n",
       " 'Untitled.ipynb']"
      ]
     },
     "execution_count": 30,
     "metadata": {},
     "output_type": "execute_result"
    }
   ],
   "source": [
    "# 1. os.listdir(folder)\n",
    "# To get the list of all files and directories in the specified directory. \n",
    "# If we don't specify any directory, then list of files and directories in the current working directory will be returned.\n",
    "import os\n",
    "\n",
    "os.listdir()"
   ]
  },
  {
   "cell_type": "code",
   "execution_count": 31,
   "metadata": {},
   "outputs": [],
   "source": [
    "# 2. os.remove(path)\n",
    "# remove a file\n",
    "os.remove(\"label.txt\")"
   ]
  },
  {
   "cell_type": "code",
   "execution_count": 33,
   "metadata": {},
   "outputs": [
    {
     "data": {
      "text/plain": [
       "'E:\\\\CGT290\\\\code'"
      ]
     },
     "execution_count": 33,
     "metadata": {},
     "output_type": "execute_result"
    }
   ],
   "source": [
    "# 3. os.getcwd()\n",
    "# returns current working directory of a process.\n",
    "os.getcwd()"
   ]
  },
  {
   "cell_type": "code",
   "execution_count": 51,
   "metadata": {},
   "outputs": [
    {
     "data": {
      "text/plain": [
       "'file.txt'"
      ]
     },
     "execution_count": 51,
     "metadata": {},
     "output_type": "execute_result"
    }
   ],
   "source": [
    "# 4. os.path.split()\n",
    "# Split the path name into a pair head and tail. \n",
    "# Here, tail is the last path name component and head is everything leading up to that.\n",
    "\n",
    "path = '/home/user/Desktop/file.txt' \n",
    "os.path.split(path)[1]"
   ]
  },
  {
   "cell_type": "code",
   "execution_count": 39,
   "metadata": {},
   "outputs": [
    {
     "name": "stdout",
     "output_type": "stream",
     "text": [
      "False\n"
     ]
    }
   ],
   "source": [
    "# 5. os.path.isfile()\n",
    "#  check whether the specified path is an existing regular file or not.\n",
    "\n",
    "path1 = 'air-bubbles-230014_640.jpg'\n",
    "#path2 = '/home/user/Desktop/file.txt'\n",
    "#path3 = 'E:\\\\CGT290\\\\code\\\\test.csv'\n",
    "\n",
    "print(os.path.isfile(path1))\n",
    "#print(os.path.isfile(path2))\n",
    "#print(os.path.isfile(path3))"
   ]
  },
  {
   "cell_type": "code",
   "execution_count": 41,
   "metadata": {},
   "outputs": [
    {
     "data": {
      "text/plain": [
       "False"
      ]
     },
     "execution_count": 41,
     "metadata": {},
     "output_type": "execute_result"
    }
   ],
   "source": [
    "# 6. os.path.isdir()\n",
    "# check whether the specified path is an existing regular directory or not.\n",
    "\n",
    "path = 'E:\\\\CGT290\\\\code\\\\test.csv'\n",
    "path1 = '/home/user/Desktop'\n",
    "\n",
    "os.path.isdir(path)"
   ]
  },
  {
   "cell_type": "code",
   "execution_count": 42,
   "metadata": {},
   "outputs": [
    {
     "name": "stdout",
     "output_type": "stream",
     "text": [
      "True\n",
      "False\n"
     ]
    }
   ],
   "source": [
    "# 7. os.path.exists()\n",
    "# check if a path exists\n",
    "\n",
    "path1 = 'E:\\\\CGT290\\\\code'\n",
    "path2 = 'E:\\\\CGT290\\\\code1'\n",
    "\n",
    "print(os.path.exists(path1))\n",
    "print(os.path.exists(path2))"
   ]
  },
  {
   "cell_type": "code",
   "execution_count": 43,
   "metadata": {},
   "outputs": [
    {
     "name": "stdout",
     "output_type": "stream",
     "text": [
      "Before: E:\\CGT290\\code\n",
      "After: E:\\CGT290\n"
     ]
    }
   ],
   "source": [
    "# 8. os.chdir()\n",
    "# change the current working directory to a specified path\n",
    "\n",
    "print(\"Before:\",os.getcwd())\n",
    "\n",
    "os.chdir(\"E:\\\\CGT290\")\n",
    "\n",
    "print('After:',os.getcwd())"
   ]
  },
  {
   "cell_type": "code",
   "execution_count": 44,
   "metadata": {},
   "outputs": [
    {
     "data": {
      "text/plain": [
       "'E:\\\\CGT290\\\\code'"
      ]
     },
     "execution_count": 44,
     "metadata": {},
     "output_type": "execute_result"
    }
   ],
   "source": [
    "os.chdir(\"./code\")\n",
    "os.getcwd()"
   ]
  },
  {
   "cell_type": "code",
   "execution_count": 45,
   "metadata": {},
   "outputs": [
    {
     "data": {
      "text/plain": [
       "42"
      ]
     },
     "execution_count": 45,
     "metadata": {},
     "output_type": "execute_result"
    }
   ],
   "source": [
    "# 9. os.path.getsize()\n",
    "# check the size of specified path. It returns the size of specified path in bytes. \n",
    "# The method raise OSError if the file does not exist or is somehow inaccessible.\n",
    "\n",
    "os.path.getsize(\"test.csv\")"
   ]
  },
  {
   "cell_type": "code",
   "execution_count": 19,
   "metadata": {},
   "outputs": [
    {
     "data": {
      "text/plain": [
       "'.txt'"
      ]
     },
     "execution_count": 19,
     "metadata": {},
     "output_type": "execute_result"
    }
   ],
   "source": [
    "# 10. os.path.splitext()\n",
    "# split the path name into a pair root and ext. \n",
    "# Here, ext stands for extension and has the extension portion of the specified path\n",
    "import os\n",
    "\n",
    "path = 'file.txt'\n",
    "os.path.splitext(path)[1]"
   ]
  },
  {
   "cell_type": "code",
   "execution_count": 70,
   "metadata": {},
   "outputs": [
    {
     "data": {
      "text/plain": [
       "'file.txt'"
      ]
     },
     "execution_count": 70,
     "metadata": {},
     "output_type": "execute_result"
    }
   ],
   "source": [
    "# 11. os.path.basename()\n",
    "# get the base name in specified path\n",
    "\n",
    "path = '/home/User/Desktop/file.txt'\n",
    "os.path.basename(path)"
   ]
  },
  {
   "cell_type": "code",
   "execution_count": 52,
   "metadata": {},
   "outputs": [
    {
     "data": {
      "text/plain": [
       "'/home/User/Documents'"
      ]
     },
     "execution_count": 52,
     "metadata": {},
     "output_type": "execute_result"
    }
   ],
   "source": [
    "# 12. os.path.dirname()\n",
    "# get the directory name from the specified path\n",
    "\n",
    "path = '/home/User/Documents/file.txt'\n",
    "os.path.dirname(path)"
   ]
  },
  {
   "cell_type": "code",
   "execution_count": 54,
   "metadata": {},
   "outputs": [
    {
     "data": {
      "text/plain": [
       "''"
      ]
     },
     "execution_count": 54,
     "metadata": {},
     "output_type": "execute_result"
    }
   ],
   "source": [
    "path = 'file.txt'\n",
    "os.path.dirname(path)"
   ]
  },
  {
   "cell_type": "code",
   "execution_count": 56,
   "metadata": {},
   "outputs": [
    {
     "name": "stdout",
     "output_type": "stream",
     "text": [
      "home\\User\\Desktop\\file.txt\n"
     ]
    }
   ],
   "source": [
    "# 13. os.path.join()\n",
    "#  join one or more path components intelligently.\n",
    "\n",
    "# Path \n",
    "path = \"home\"\n",
    "  \n",
    "# Join various path components  \n",
    "print(os.path.join(path, \"User\\Desktop\", \"file.txt\")) "
   ]
  },
  {
   "cell_type": "code",
   "execution_count": 46,
   "metadata": {
    "scrolled": true
   },
   "outputs": [
    {
     "name": "stdout",
     "output_type": "stream",
     "text": [
      "root:  ../root\n",
      "dirs:  ['dir1', 'dir2', 'dir3']\n",
      "files:  []\n",
      "------------------------------\n",
      "root:  ../root\\dir1\n",
      "dirs:  []\n",
      "files:  ['air-bubbles-230014_640.jpg', 'boat-164989_640.jpg', 'dir1_file1.txt', 'dolphin-203875_640.jpg', 'evening-567840_640.jpg']\n",
      "------------------------------\n",
      "root:  ../root\\dir2\n",
      "dirs:  []\n",
      "files:  ['dir2_file2.txt', 'sunset-675847_640.jpg', 'tree-736875_640.jpg', 'tree-838667_640.jpg', 'youth-570881_640.jpg']\n",
      "------------------------------\n",
      "root:  ../root\\dir3\n",
      "dirs:  []\n",
      "files:  ['dir3_file1.txt', 'freedom-4757533_640.jpg', 'jump-1209647_640.jpg']\n",
      "------------------------------\n"
     ]
    }
   ],
   "source": [
    "# 14. os.path.walk(path, visit, arg)\n",
    "# OS.walk() generate the file names in a directory tree by walking the tree either top-down or bottom-up. \n",
    "# For each directory in the tree rooted at directory top (including top itself), \n",
    "# it yields a 3-tuple (dirpath, dirnames, filenames).\n",
    "import os\n",
    "\n",
    "walker = os.walk(\"../root\")\n",
    "\n",
    "for (root,dirs,files) in walker:\n",
    "    print(\"root: \",root)\n",
    "    print(\"dirs: \",dirs)\n",
    "    print(\"files: \",files)\n",
    "    print('-'*30)"
   ]
  },
  {
   "cell_type": "markdown",
   "metadata": {},
   "source": [
    "# Homework (18 pts)"
   ]
  },
  {
   "cell_type": "markdown",
   "metadata": {},
   "source": [
    "### 1. Object-oriented programming (6 pts)\n",
    "\n",
    "a. Create a Student class, each student should have attributes: name, age, gender, score. <br>\n",
    "b. Add a method called grade(score) which takes one parameter. grade() function can make changes to a student's score.<br> \n",
    "c. Add check(score) method. check() returns A(score>=90) B(80<=score<90) C(70<=score<80) D(60<=score<70) F(score<60)<br>\n",
    "d. Add add_to_list(Student) method. Add a student's name to the male_list if gender == 'male', otherwise add to female_list."
   ]
  },
  {
   "cell_type": "code",
   "execution_count": 56,
   "metadata": {},
   "outputs": [],
   "source": [
    "class Student():\n",
    "    male_students = []\n",
    "    female_students = []\n",
    "    \n",
    "    def __init__(self,name,age,gender,score):\n",
    "        self.name = name\n",
    "        self.age = age\n",
    "        self.gender = gender\n",
    "        self.score = score\n",
    "        \n",
    "        \n",
    "    def grade(self, new_score):\n",
    "        \n",
    "        self.score = new_score\n",
    "        \n",
    "    def check(self):\n",
    "        if self.score >= 90:\n",
    "            return \"A\"\n",
    "        elif 80 <= self.score < 90:\n",
    "            return \"B\"\n",
    "        elif 70 <= self.score < 80:\n",
    "            return \"C\"\n",
    "        elif 60 <= self.score < 70:\n",
    "            return \"D\"\n",
    "        else:\n",
    "            return \"F\" \n",
    "    \n",
    "    def add_to_list(self, student):\n",
    "        if student.gender == 'male':\n",
    "            self.male_students.append(student.name)\n",
    "        else:\n",
    "            self.female_students.append(student.name)\n",
    "        \n",
    "    "
   ]
  },
  {
   "cell_type": "code",
   "execution_count": 57,
   "metadata": {},
   "outputs": [
    {
     "data": {
      "text/plain": [
       "'F'"
      ]
     },
     "execution_count": 57,
     "metadata": {},
     "output_type": "execute_result"
    }
   ],
   "source": [
    "A = Student('joe',23,'male',99)\n",
    "B = Student('mary',21,'female',99)\n",
    "B.grade(59)\n",
    "B.check()"
   ]
  },
  {
   "cell_type": "code",
   "execution_count": 58,
   "metadata": {},
   "outputs": [
    {
     "data": {
      "text/plain": [
       "['mary']"
      ]
     },
     "execution_count": 58,
     "metadata": {},
     "output_type": "execute_result"
    }
   ],
   "source": [
    "A.add_to_list(B)\n",
    "A.female_students"
   ]
  },
  {
   "cell_type": "markdown",
   "metadata": {},
   "source": [
    "### 2. file reading and writing (6 pts)\n",
    "\n",
    "a. read countries.txt file. <br>\n",
    "b. write the content to a .csv file. (in your csv file, you should have two columns: code and countries). <br>\n",
    "\n",
    "for example:<br>\n",
    "**code**  &nbsp; **countries** <br>\n",
    "BI    &nbsp;&nbsp;     Burundi <br>\n",
    "KH    &nbsp;    Cambodia <br>\n",
    "CM    &nbsp;     Cameroon <br>\n",
    "CA    &nbsp;     Canada <br>"
   ]
  },
  {
   "cell_type": "code",
   "execution_count": 18,
   "metadata": {},
   "outputs": [],
   "source": [
    "import csv\n",
    "\n",
    "with open('countries.txt', 'r') as f:\n",
    "    lines = f.readlines()\n",
    "\n",
    "clean = [line.strip().split(\":\") for line in lines]\n",
    "\n",
    "with open('problem2.csv', 'w', newline='') as csvfile: \n",
    "    writer = csv.writer(csvfile)\n",
    "\n",
    "    #first write column names\n",
    "    writer.writerow([\"code\",\"countries\"])\n",
    "    #write content\n",
    "    for line in clean:\n",
    "        writer.writerow(line)"
   ]
  },
  {
   "cell_type": "markdown",
   "metadata": {},
   "source": [
    "### 3. OS (6 pts)\n",
    "\n",
    "a. unzip the provided root.zip file <br>\n",
    "b. walk through all the directories and files, count the total amount of .txt files and .jpg files <br>\n",
    "c. walk through all the directories and files, get the size of each file(.txt and .jpg) <br>\n",
    "d. rename all the **image files**(name convention: for air-bubbles-230014_640.jpg in /root/dir1 rename it as **root_dir1_img1.jpg**)"
   ]
  },
  {
   "cell_type": "code",
   "execution_count": 28,
   "metadata": {},
   "outputs": [
    {
     "name": "stdout",
     "output_type": "stream",
     "text": [
      "number of .txt files:  3\n",
      "number of .jpg files:  10\n"
     ]
    }
   ],
   "source": [
    "import os\n",
    "\n",
    "\n",
    "walker = os.walk(\"E:\\\\CGT290\\\\root\")\n",
    "\n",
    "\n",
    "# 3b-------------------------------------\n",
    "txt_file = 0\n",
    "img_file = 0\n",
    "\n",
    "for (root,dirs,files) in walker:\n",
    "    for file in files:\n",
    "        if os.path.splitext(file)[1] == '.txt':\n",
    "            txt_file += 1\n",
    "        if os.path.splitext(file)[1] == '.jpg':\n",
    "            img_file += 1\n",
    "        \n",
    "print(\"number of .txt files: \",txt_file)\n",
    "print(\"number of .jpg files: \",img_file)"
   ]
  },
  {
   "cell_type": "code",
   "execution_count": 65,
   "metadata": {},
   "outputs": [
    {
     "name": "stdout",
     "output_type": "stream",
     "text": [
      "size of  air-bubbles-230014_640.jpg  ->  131600 byte(s)\n",
      "size of  boat-164989_640.jpg  ->  111940 byte(s)\n",
      "size of  dir1_file1.txt  ->  0 byte(s)\n",
      "size of  dolphin-203875_640.jpg  ->  33347 byte(s)\n",
      "size of  evening-567840_640.jpg  ->  48301 byte(s)\n",
      "size of  dir2_file2.txt  ->  0 byte(s)\n",
      "size of  sunset-675847_640.jpg  ->  67453 byte(s)\n",
      "size of  tree-736875_640.jpg  ->  60815 byte(s)\n",
      "size of  tree-838667_640.jpg  ->  39629 byte(s)\n",
      "size of  youth-570881_640.jpg  ->  38871 byte(s)\n",
      "size of  dir3_file1.txt  ->  0 byte(s)\n",
      "size of  freedom-4757533_640.jpg  ->  98000 byte(s)\n",
      "size of  jump-1209647_640.jpg  ->  61540 byte(s)\n"
     ]
    }
   ],
   "source": [
    "#3c--------------------------------------\n",
    "\n",
    "walker = os.walk(\"../root\")\n",
    "\n",
    "for (root,dirs,files) in walker:\n",
    "            for file in files:\n",
    "                print(\"size of \", file, \" -> \", os.path.getsize(os.path.join(root,file)),\"byte(s)\")"
   ]
  },
  {
   "cell_type": "code",
   "execution_count": 66,
   "metadata": {},
   "outputs": [],
   "source": [
    "#3d--------------------------------------\n",
    "\n",
    "walker = os.walk(\"E:\\\\CGT290\\\\root\")\n",
    "\n",
    "seen_dirs = {}\n",
    "\n",
    "for (root,dirs,files) in walker:\n",
    "    for file in files:\n",
    "        file_full_path  = os.path.join(root,file)\n",
    "        if os.path.splitext(file_full_path)[1] == '.jpg':\n",
    "            if os.path.dirname(file_full_path) in seen_dirs:\n",
    "                seen_dirs[os.path.dirname(file_full_path)] += 1\n",
    "            else:\n",
    "                seen_dirs[os.path.dirname(file_full_path)] = 1\n",
    "        \n",
    "            new_name = os.path.dirname(file_full_path) + '\\\\' + 'img_' + str(seen_dirs[os.path.dirname(file_full_path)]) + \".jpg\"\n",
    "                    \n",
    "            os.rename(file_full_path, new_name)"
   ]
  },
  {
   "cell_type": "code",
   "execution_count": null,
   "metadata": {},
   "outputs": [],
   "source": []
  }
 ],
 "metadata": {
  "kernelspec": {
   "display_name": "Python 3",
   "language": "python",
   "name": "python3"
  },
  "language_info": {
   "codemirror_mode": {
    "name": "ipython",
    "version": 3
   },
   "file_extension": ".py",
   "mimetype": "text/x-python",
   "name": "python",
   "nbconvert_exporter": "python",
   "pygments_lexer": "ipython3",
   "version": "3.7.4"
  }
 },
 "nbformat": 4,
 "nbformat_minor": 2
}
