{
 "cells": [
  {
   "cell_type": "code",
   "execution_count": 1,
   "metadata": {},
   "outputs": [],
   "source": [
    "from bqplot import *\n",
    "from ipywidgets import *"
   ]
  },
  {
   "cell_type": "markdown",
   "metadata": {},
   "source": [
    "## 1. Read excel data"
   ]
  },
  {
   "cell_type": "code",
   "execution_count": 4,
   "metadata": {},
   "outputs": [],
   "source": [
    "# read data\n",
    "import pandas as pd\n",
    "import collections\n",
    "\n",
    "likert = [\"Strongly disagree\",\"Disagree\",\"Neutral\",'Agree',\"Strongly agree\"]\n",
    "level = ['Freshman','Junior','Sophomore','Senior']\n",
    "\n",
    "# write a function to read data from excel sheets\n",
    "def get_data(file, likert, level):\n",
    "    \n",
    "    df = pd.read_excel(file)\n",
    "    counter = collections.Counter(df['Response'].values)\n",
    "    likert_value = []\n",
    "    for x in likert:\n",
    "        likert_value.append(counter[x])\n",
    "    \n",
    "    level_count = []\n",
    "    counter = collections.Counter(df['Level'].values)\n",
    "    for x in level:\n",
    "        level_count.append(counter[x])\n",
    "    \n",
    "    return likert_value, level_count\n",
    "\n",
    "#-----------Q1-----------------\n",
    "\n",
    "q1_likert_value, q1_level_count = get_data(\"Q1.xlsx\", likert, level)\n",
    "\n",
    "\n",
    "#-----------Q2-----------------\n",
    "q2_likert_value, q2_level_count = get_data(\"Q2.xlsx\", likert, level)\n",
    "\n",
    "\n",
    "#-----------Q3-----------------\n",
    "q3_likert_value, q3_level_count = get_data(\"Q3.xlsx\", likert, level)\n",
    "    \n",
    "\n",
    "#-----likert values for 3 questions------\n",
    "q1 = pd.read_excel(\"Q1.xlsx\")\n",
    "q2 = pd.read_excel(\"Q2.xlsx\")\n",
    "q3 = pd.read_excel(\"Q3.xlsx\")\n",
    "LS = [q1['Likert Score'].values.tolist(), q2['Likert Score'].values.tolist(), q3['Likert Score'].values.tolist()]"
   ]
  },
  {
   "cell_type": "markdown",
   "metadata": {},
   "source": [
    "## 2. Pie chart"
   ]
  },
  {
   "cell_type": "code",
   "execution_count": 5,
   "metadata": {},
   "outputs": [],
   "source": [
    "# Basic Pie Chart\n",
    "\n",
    "pie = Pie(radius=110, inner_radius=60, sizes=[1,2], \n",
    "          label_color='black', font_size='10px', display_labels='outside',\n",
    "          display_values = True, font_weight = 'bold', label_offset='-3em')\n",
    "\n",
    "pie_fig = Figure(title='Pie Chart', marks=[pie], animation_duration=1000)\n",
    "pie_fig.layout.width = '600px'"
   ]
  },
  {
   "cell_type": "markdown",
   "metadata": {},
   "source": [
    "## 3. Bar chart"
   ]
  },
  {
   "cell_type": "code",
   "execution_count": 6,
   "metadata": {},
   "outputs": [],
   "source": [
    "# Likert Bar Chart\n",
    "sc_ord = OrdinalScale()\n",
    "y_sc_rf = LinearScale()\n",
    "\n",
    "def_tt = Tooltip(fields=['y','x'], labels=['Number','Likert'])\n",
    "bar_chart = Bars(\n",
    "             scales={'x': sc_ord, 'y': y_sc_rf}, opacities=[0.5], colors=['orangered'],\n",
    "             tooltip=def_tt\n",
    "            )\n",
    "\n",
    "ord_ax = Axis(label='Likert', scale=sc_ord, grid_lines='none')\n",
    "y_ax = Axis(label='Number', scale=y_sc_rf,  orientation='vertical', \n",
    "grid_lines='solid')\n",
    "\n",
    "bar_fig = Figure(title=\"Bar chart\", axes=[ord_ax, y_ax],  marks=[bar_chart]) \n",
    "bar_fig.layout.width = '600px'"
   ]
  },
  {
   "cell_type": "markdown",
   "metadata": {},
   "source": [
    "## 3. Horizontal bar chart"
   ]
  },
  {
   "cell_type": "code",
   "execution_count": 7,
   "metadata": {},
   "outputs": [],
   "source": [
    "# Academic Level Bar Chart\n",
    "x_ord = OrdinalScale()\n",
    "y_sc = LinearScale()\n",
    "def_tt_ = Tooltip(fields=['y','x'], labels=['Number','Level'])\n",
    "level_bar = Bars(scales={'x': x_ord, 'y': y_sc}, tooltip=def_tt_,\n",
    "           orientation='horizontal')\n",
    "ax_x = Axis(scale=x_ord, orientation='vertical')\n",
    "ax_y = Axis(scale=y_sc, tick_format='0.2f')\n",
    "\n",
    "level_bar_fig = Figure(marks=[level_bar], axes=[ax_x, ax_y], padding_x=0.25, padding_y=0.025)\n",
    "level_bar_fig.layout.width = '500px'"
   ]
  },
  {
   "cell_type": "markdown",
   "metadata": {},
   "source": [
    "## 4. Boxplot"
   ]
  },
  {
   "cell_type": "code",
   "execution_count": 11,
   "metadata": {},
   "outputs": [],
   "source": [
    "sc_x = OrdinalScale()\n",
    "sc_y = LinearScale()\n",
    "ax = Axis(scale=sc_x, visible=True)\n",
    "ay = Axis(scale=sc_y, orientation='vertical')\n",
    "boxes = Boxplot(scales={'x': sc_x, 'y': sc_y}, box_fill_color='green', outlier_fill_color='white', box_width=80)\n",
    "boxplot = Figure(title=\"Boxplot\", axes=[ax, ay], marks=[boxes], padding_x=0.025, \n",
    "                    background_style={'fill':'white'})\n",
    "\n",
    "boxplot.layout.width = '500px'"
   ]
  },
  {
   "cell_type": "markdown",
   "metadata": {},
   "source": [
    "## 5. Interactions"
   ]
  },
  {
   "cell_type": "code",
   "execution_count": 12,
   "metadata": {},
   "outputs": [],
   "source": [
    "RB = widgets.RadioButtons(\n",
    "            options=[\n",
    "                'Q1',\n",
    "                'Q2',\n",
    "                'Q3'\n",
    "            ],\n",
    "\n",
    "        )\n",
    "RB_box = widgets.Box(\n",
    "    [\n",
    "        widgets.Label(value='Select a question: '),\n",
    "        RB\n",
    "    ]\n",
    ")\n",
    "\n",
    "RB_box.layout.flex_flow = 'column'\n",
    "RB_box.layout.display = 'flex'\n",
    "RB_box.layout.align_items = 'stretch'\n",
    "\n",
    "def radio_change(change):\n",
    "    if change['new'] == 'Q1':\n",
    "        pie.sizes = q1_likert_value\n",
    "        pie.labels = likert\n",
    "        pie_fig.title = 'Q1 Likert Scale Pie Chart'\n",
    "        \n",
    "        bar_chart.x = likert\n",
    "        bar_chart.y = q1_likert_value\n",
    "        bar_fig.title = 'Q1 Likert Scale Bar Chart'\n",
    "        \n",
    "        boxes.x = [\"Q1\"]\n",
    "        boxes.y = [LS[0]]\n",
    "        boxplot.title = \"Q1 Likert Score Boxplot\"\n",
    "        \n",
    "        level_bar.x = level\n",
    "        level_bar.y = q1_level_count\n",
    "        level_bar.colors = ['#FF5733','#FF7733','#FFAC33','#FFE933']\n",
    "        level_bar_fig.title = \"Q1 Students Academic Level\"\n",
    "        \n",
    "    elif change['new'] == 'Q2':\n",
    "        pie.sizes = q2_likert_value\n",
    "        pie.labels = likert\n",
    "        pie_fig.title = 'Q2 Likert Scale Pie Chart'\n",
    "        \n",
    "        bar_chart.x = likert\n",
    "        bar_chart.y = q2_likert_value\n",
    "        bar_fig.title = 'Q2 Likert Scale Bar Chart'\n",
    "        \n",
    "        boxes.x = [\"Q2\"]\n",
    "        boxes.y = [LS[1]]\n",
    "        boxplot.title = \"Q2 Likert Score Boxplot\"\n",
    "        \n",
    "        level_bar.x = level\n",
    "        level_bar.y = q2_level_count\n",
    "        level_bar.colors = ['#FF5733','#FF7733','#FFAC33','#FFE933']\n",
    "        level_bar_fig.title = \"Q2 Students Academic Level\"\n",
    "        \n",
    "    elif change['new'] == 'Q3':\n",
    "        pie.sizes = q3_likert_value\n",
    "        pie.labels = likert\n",
    "        pie_fig.title = 'Q3 Likert Scale Pie Chart'\n",
    "        \n",
    "        bar_chart.x = likert\n",
    "        bar_chart.y = q3_likert_value\n",
    "        bar_fig.title = 'Q3 Likert Scale Bar Chart'\n",
    "        \n",
    "        boxes.x = [\"Q3\"]\n",
    "        boxes.y = [LS[2]]\n",
    "        boxplot.title = \"Q3 Likert Score Boxplot\"\n",
    "        \n",
    "        level_bar.x = level\n",
    "        level_bar.y = q3_level_count\n",
    "        level_bar.colors = ['#FF5733','#FF7733','#FFAC33','#FFE933']\n",
    "        level_bar_fig.title = \"Q3 Students Academic Level\"\n",
    "        \n",
    "\n",
    "RB.observe(radio_change, names='value')"
   ]
  },
  {
   "cell_type": "markdown",
   "metadata": {},
   "source": [
    "## 6. Show dashboard"
   ]
  },
  {
   "cell_type": "code",
   "execution_count": 13,
   "metadata": {},
   "outputs": [
    {
     "data": {
      "application/vnd.jupyter.widget-view+json": {
       "model_id": "a56700bb2b314041af6b4090bcb70d4b",
       "version_major": 2,
       "version_minor": 0
      },
      "text/plain": [
       "VBox(children=(Box(children=(Label(value='Select a question: '), RadioButtons(options=('Q1', 'Q2', 'Q3'), valu…"
      ]
     },
     "metadata": {},
     "output_type": "display_data"
    }
   ],
   "source": [
    "box_layout = Layout(#display='flex',\n",
    "                    #flex_flow='column',\n",
    "                    align_items='stretch',\n",
    "                    #border='solid',\n",
    "                    width='100%')\n",
    "VBox([RB_box, Box([pie_fig, bar_fig], layout=box_layout), Box([boxplot, level_bar_fig])])"
   ]
  },
  {
   "cell_type": "code",
   "execution_count": null,
   "metadata": {},
   "outputs": [],
   "source": []
  }
 ],
 "metadata": {
  "kernelspec": {
   "display_name": "Python 3",
   "language": "python",
   "name": "python3"
  },
  "language_info": {
   "codemirror_mode": {
    "name": "ipython",
    "version": 3
   },
   "file_extension": ".py",
   "mimetype": "text/x-python",
   "name": "python",
   "nbconvert_exporter": "python",
   "pygments_lexer": "ipython3",
   "version": "3.7.4"
  }
 },
 "nbformat": 4,
 "nbformat_minor": 2
}
